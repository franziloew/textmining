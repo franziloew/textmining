{
 "cells": [
  {
   "cell_type": "code",
   "execution_count": 1,
   "metadata": {},
   "outputs": [
    {
     "name": "stdout",
     "output_type": "stream",
     "text": [
      "using user provided API key for making requests\n",
      "Event Registry host: http://eventregistry.org\n"
     ]
    }
   ],
   "source": [
    "from NewsDownloader import NewsDownloader\n",
    "import pickle\n",
    "import pandas as pd\n",
    "import numpy as np"
   ]
  },
  {
   "cell_type": "markdown",
   "metadata": {},
   "source": [
    "### Running the program"
   ]
  },
  {
   "cell_type": "code",
   "execution_count": 2,
   "metadata": {
    "collapsed": true
   },
   "outputs": [],
   "source": [
    "private_uris = [\n",
    "    \"stern.de\",\"spiegel.de\",\"focus.de\",\"welt.de\",\"zeit.de\",\"bild.de\",\"handelsblatt.com\"]\n",
    "public_uris = [\n",
    "    \"tagesschau.de\",\"heute.de\",\"deutschlandfunk.de\",\"phoenix.de\",\"wdr.de\",\"ndr.de\"]"
   ]
  },
  {
   "cell_type": "code",
   "execution_count": 3,
   "metadata": {
    "collapsed": true
   },
   "outputs": [],
   "source": [
    "private = NewsDownloader('private_18_oct', source_uris=private_uris)\n",
    "public = NewsDownloader('public_18_oct', source_uris=public_uris)"
   ]
  },
  {
   "cell_type": "markdown",
   "metadata": {},
   "source": [
    "### Import Data"
   ]
  },
  {
   "cell_type": "code",
   "execution_count": 4,
   "metadata": {
    "collapsed": true
   },
   "outputs": [],
   "source": [
    "public = open(\"public_18_oct.pkl\",\"rb\")"
   ]
  },
  {
   "cell_type": "code",
   "execution_count": 5,
   "metadata": {
    "collapsed": true
   },
   "outputs": [],
   "source": [
    "public_list = pickle.load(public)"
   ]
  },
  {
   "cell_type": "code",
   "execution_count": 10,
   "metadata": {},
   "outputs": [
    {
     "name": "stdout",
     "output_type": "stream",
     "text": [
      "{'id': '15002689', 'uri': '726506811', 'lang': 'deu', 'isDuplicate': False, 'date': '2017-09-16', 'time': '01:14:00', 'dateTime': '2017-09-16T01:14:00Z', 'sim': 0.4313725531101227, 'url': 'http://www.deutschlandfunk.de/nordkorea-kim-kuendigt-fortsetzung-des-atomprogramms-an.1939.de.html?drn:news_id=792839', 'title': 'Nordkorea - Kim kündigt Fortsetzung des Atomprogramms an', 'body': 'Das Fernsehen in Südkorea zeigt Bilder einer nordkoreanischen Rakete. (Archiv) (AFP / Jung Yeon-Je)\\n\\nNach dem jüngsten Raketentest hat Nordkoreas Machthaber Kim Jong Un bekräftigt, sein Nuklearwaffenprogramm fortzusetzen.\\n\\nZiel sei es, ein Machtgleichgewicht mit den USA herzustellen und die US-Regierung davor zu warnen, militärische Schritte gegen Nordkorea einzuleiten, sagte Kim nach Angaben der staatlichen Nachrichtenagentur KCNA.\\n\\nNordkorea hatte gestern erneut eine Rakete über Japan hinweggeschossen. Sie flog rund 3.700 Kilometer weit, bevor sie in den Pazifik stürzte.\\n\\nDer UNO-Sicherheitsrat, der erst am Montag verschärfte Sanktionen gegen Pjöngjang beschlossen hatte, verurteilte den Raketenstart, einigte sich in seiner Sitzung in New York aber nicht auf weitere Schritte.', 'source': {'id': '2215', 'uri': 'deutschlandfunk.de', 'title': 'Deutschlandfunk'}, 'eventUri': 'eng-3435306', 'shares': {}, 'wgt': 1}\n"
     ]
    }
   ],
   "source": [
    "print(public_list[len(public_list)-1])"
   ]
  },
  {
   "cell_type": "code",
   "execution_count": 3,
   "metadata": {},
   "outputs": [
    {
     "ename": "FileNotFoundError",
     "evalue": "[Errno 2] No such file or directory: '../data/eventbride/private_18_okt.pkl'",
     "output_type": "error",
     "traceback": [
      "\u001b[0;31m---------------------------------------------------------------------------\u001b[0m",
      "\u001b[0;31mFileNotFoundError\u001b[0m                         Traceback (most recent call last)",
      "\u001b[0;32m<ipython-input-3-c4cabf04d138>\u001b[0m in \u001b[0;36m<module>\u001b[0;34m()\u001b[0m\n\u001b[0;32m----> 1\u001b[0;31m \u001b[0;32mwith\u001b[0m \u001b[0mopen\u001b[0m\u001b[0;34m(\u001b[0m\u001b[0;34m'../data/eventbride/private_18_okt.pkl'\u001b[0m\u001b[0;34m,\u001b[0m \u001b[0;34m'rb'\u001b[0m\u001b[0;34m)\u001b[0m \u001b[0;32mas\u001b[0m \u001b[0mf\u001b[0m\u001b[0;34m:\u001b[0m\u001b[0;34m\u001b[0m\u001b[0m\n\u001b[0m\u001b[1;32m      2\u001b[0m     \u001b[0mdata\u001b[0m \u001b[0;34m=\u001b[0m \u001b[0mpickle\u001b[0m\u001b[0;34m.\u001b[0m\u001b[0mload\u001b[0m\u001b[0;34m(\u001b[0m\u001b[0mf\u001b[0m\u001b[0;34m)\u001b[0m\u001b[0;34m\u001b[0m\u001b[0m\n",
      "\u001b[0;31mFileNotFoundError\u001b[0m: [Errno 2] No such file or directory: '../data/eventbride/private_18_okt.pkl'"
     ]
    }
   ],
   "source": [
    "with open('/Users/Franzi/GitHub/textmining/paper/data/eventbride/private_18_okt.pkl', 'rb') as f:\n",
    "    data = pickle.load(f)"
   ]
  },
  {
   "cell_type": "code",
   "execution_count": 27,
   "metadata": {},
   "outputs": [
    {
     "data": {
      "text/plain": [
       "list"
      ]
     },
     "execution_count": 27,
     "metadata": {},
     "output_type": "execute_result"
    }
   ],
   "source": [
    "type(data)"
   ]
  },
  {
   "cell_type": "code",
   "execution_count": null,
   "metadata": {
    "collapsed": true
   },
   "outputs": [],
   "source": []
  }
 ],
 "metadata": {
  "kernelspec": {
   "display_name": "Python 3",
   "language": "python",
   "name": "python3"
  },
  "language_info": {
   "codemirror_mode": {
    "name": "ipython",
    "version": 3
   },
   "file_extension": ".py",
   "mimetype": "text/x-python",
   "name": "python",
   "nbconvert_exporter": "python",
   "pygments_lexer": "ipython3",
   "version": "3.6.1"
  }
 },
 "nbformat": 4,
 "nbformat_minor": 2
}
