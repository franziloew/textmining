{
 "cells": [
  {
   "cell_type": "code",
   "execution_count": 1,
   "metadata": {},
   "outputs": [
    {
     "name": "stdout",
     "output_type": "stream",
     "text": [
      "using user provided API key for making requests\n",
      "Event Registry host: http://eventregistry.org\n"
     ]
    }
   ],
   "source": [
    "from NewsDownloader import NewsDownloader\n",
    "import pickle\n",
    "import pandas as pd\n",
    "import numpy as np"
   ]
  },
  {
   "cell_type": "markdown",
   "metadata": {},
   "source": [
    "## Get the Data"
   ]
  },
  {
   "cell_type": "markdown",
   "metadata": {},
   "source": [
    "### Running the Crawler"
   ]
  },
  {
   "cell_type": "markdown",
   "metadata": {},
   "source": [
    "#### 1. Stern.de, Spiegel Online, FOCUS Online"
   ]
  },
  {
   "cell_type": "code",
   "execution_count": 2,
   "metadata": {
    "collapsed": true
   },
   "outputs": [],
   "source": [
    "# Stern.de\n",
    "news_uris = [\"stern.de\"]\n",
    "stern = NewsDownloader('stern_sep', source_uris=news_uris)"
   ]
  },
  {
   "cell_type": "code",
   "execution_count": 6,
   "metadata": {
    "collapsed": true
   },
   "outputs": [],
   "source": [
    "# Spiegel Online\n",
    "news_uris = [\"spiegel.de\"]\n",
    "spiegel = NewsDownloader('spiegel_sep', source_uris=news_uris)"
   ]
  },
  {
   "cell_type": "code",
   "execution_count": 7,
   "metadata": {
    "collapsed": true
   },
   "outputs": [],
   "source": [
    "# FOCUS Online\n",
    "news_uris = [\"focus.de\"]\n",
    "focus = NewsDownloader('focus_sep', source_uris=news_uris)"
   ]
  },
  {
   "cell_type": "markdown",
   "metadata": {},
   "source": [
    "#### 2. DIE WELT, Zeit Online, Bild,  n-tv , Süddeutsche Zeitung"
   ]
  },
  {
   "cell_type": "code",
   "execution_count": 8,
   "metadata": {
    "collapsed": true
   },
   "outputs": [],
   "source": [
    "# DIE WELT\n",
    "news_uris = [\"welt.de\"]\n",
    "welt = NewsDownloader('welt_sep', source_uris=news_uris)"
   ]
  },
  {
   "cell_type": "code",
   "execution_count": 9,
   "metadata": {
    "collapsed": true
   },
   "outputs": [],
   "source": [
    "# ZEIT Online\n",
    "news_uris = [\"zeit.de\"]\n",
    "zeit = NewsDownloader('zeit_sep', source_uris=news_uris)"
   ]
  },
  {
   "cell_type": "code",
   "execution_count": 10,
   "metadata": {
    "collapsed": true
   },
   "outputs": [],
   "source": [
    "# Bild.de\n",
    "news_uris = [\"bild.de\"]\n",
    "bild = NewsDownloader('bild_sep', source_uris=news_uris)"
   ]
  },
  {
   "cell_type": "code",
   "execution_count": 11,
   "metadata": {
    "collapsed": true
   },
   "outputs": [],
   "source": [
    "# n-tv\n",
    "news_uris = [\"n-tv.de\"]\n",
    "ntv = NewsDownloader('ntv_sep', source_uris=news_uris)"
   ]
  },
  {
   "cell_type": "code",
   "execution_count": 12,
   "metadata": {
    "collapsed": true
   },
   "outputs": [],
   "source": [
    "# Süddeutsche Zeitung\n",
    "news_uris = [\"sueddeutsche.de\"]\n",
    "sz = NewsDownloader('sz_sep', source_uris=news_uris)"
   ]
  },
  {
   "cell_type": "markdown",
   "metadata": {},
   "source": [
    "#### 3. Tagesschau.de, ZDF.de"
   ]
  },
  {
   "cell_type": "code",
   "execution_count": 13,
   "metadata": {
    "collapsed": true
   },
   "outputs": [],
   "source": [
    "# Tagesschau\n",
    "news_uris = [\"tagesschau.de\"]\n",
    "tagesschau = NewsDownloader('tagesschau_sep', source_uris=news_uris)"
   ]
  },
  {
   "cell_type": "code",
   "execution_count": 14,
   "metadata": {
    "collapsed": true
   },
   "outputs": [],
   "source": [
    "# ZDF\n",
    "news_uris = [\"zdf.de\"]\n",
    "zdf = NewsDownloader('zdf_sep', source_uris=news_uris)"
   ]
  },
  {
   "cell_type": "markdown",
   "metadata": {},
   "source": [
    "### Import Data"
   ]
  },
  {
   "cell_type": "code",
   "execution_count": 21,
   "metadata": {
    "collapsed": true
   },
   "outputs": [],
   "source": [
    "def get_news(news_file):\n",
    "    with open(news_file, 'rb') as f:\n",
    "        data = pickle.load(f)\n",
    "        \n",
    "        # Extract Variables\n",
    "        lang = []\n",
    "        text = []\n",
    "        title = []\n",
    "        date = []\n",
    "        isDuplicate = []\n",
    "        source = []\n",
    "        shares = []\n",
    "\n",
    "        for i in range(len(data)):\n",
    "            text.append(data[i]['body'])\n",
    "            title.append(data[i]['title'])\n",
    "            date.append(data[i]['date'])\n",
    "            isDuplicate.append(data[i]['isDuplicate'])\n",
    "            lang.append(data[i]['lang'])\n",
    "            source.append(data[i]['source']['title'])\n",
    "            shares.append(data[i]['shares'])\n",
    "        \n",
    "        # Convert variables to pd.Series to put them together\n",
    "        text = pd.Series(text)\n",
    "        title = pd.Series(title)\n",
    "        lang = pd.Series(lang)\n",
    "        date = pd.Series(date)\n",
    "        isDuplicate = pd.Series(isDuplicate)\n",
    "        source = pd.Series(source)\n",
    "        shares = pd.Series(shares)\n",
    "        \n",
    "        df = pd.concat([text,title,lang,date,isDuplicate,source,shares], axis = 1)\n",
    "        df.columns = [\"text\",\"title\",\"lang\",\"date\",\"isDuplicate\",\"source\",\"shares\"]\n",
    "        \n",
    "        return df"
   ]
  },
  {
   "cell_type": "code",
   "execution_count": 108,
   "metadata": {},
   "outputs": [],
   "source": [
    "bild = get_news(\"data/bild_sep.pkl\")\n",
    "focus = get_news(\"data/focus_sep.pkl\")\n",
    "ntv = get_news(\"data/ntv_sep.pkl\")\n",
    "spiegel = get_news(\"data/spiegel_sep.pkl\")\n",
    "stern = get_news(\"data/stern_sep.pkl\")\n",
    "sz = get_news(\"data/sz_sep.pkl\")\n",
    "tagesschau = get_news(\"data/tagesschau_sep.pkl\")\n",
    "welt = get_news(\"data/welt_sep.pkl\")\n",
    "zdf = get_news(\"data/zdf_sep.pkl\")\n",
    "zeit = get_news(\"data/zeit_sep.pkl\")\n",
    "\n",
    "df = pd.concat([stern,bild,focus,ntv,spiegel,sz,welt,zeit])"
   ]
  },
  {
   "cell_type": "code",
   "execution_count": 114,
   "metadata": {},
   "outputs": [
    {
     "data": {
      "text/plain": [
       "4899"
      ]
     },
     "execution_count": 114,
     "metadata": {},
     "output_type": "execute_result"
    }
   ],
   "source": [
    "len(focus)"
   ]
  },
  {
   "cell_type": "code",
   "execution_count": 97,
   "metadata": {},
   "outputs": [],
   "source": [
    "df['shares'] = str(df['shares'])"
   ]
  },
  {
   "cell_type": "code",
   "execution_count": 101,
   "metadata": {},
   "outputs": [
    {
     "data": {
      "text/plain": [
       "0                                                      {}\n",
       "1                                         {'facebook': 3}\n",
       "2                                                      {}\n",
       "3                                        {'facebook': 25}\n",
       "4                                        {'facebook': 25}\n",
       "5                                      {'facebook': 2564}\n",
       "6                                                      {}\n",
       "7                                                      {}\n",
       "8                                                      {}\n",
       "9                                        {'facebook': 27}\n",
       "10                                       {'facebook': 30}\n",
       "11                                                     {}\n",
       "12                                                     {}\n",
       "13                                       {'facebook': 22}\n",
       "14                                      {'facebook': 323}\n",
       "15                                       {'facebook': 88}\n",
       "16                                       {'facebook': 43}\n",
       "17                                                     {}\n",
       "18                                       {'facebook': 52}\n",
       "19                                                     {}\n",
       "20                                                     {}\n",
       "21                                        {'facebook': 4}\n",
       "22                                                     {}\n",
       "23                                                     {}\n",
       "24                                                     {}\n",
       "25                                                     {}\n",
       "26                                                     {}\n",
       "27                                                     {}\n",
       "28                                                     {}\n",
       "29                                                     {}\n",
       "                              ...                        \n",
       "1387                                     {'facebook': 66}\n",
       "1388                     {'facebook': 58, 'pinterest': 3}\n",
       "1389                                     {'pinterest': 3}\n",
       "1390    {'facebook': 1183, 'googlePlus': 3, 'pinterest...\n",
       "1391                      {'facebook': 4, 'pinterest': 4}\n",
       "1392                                      {'facebook': 8}\n",
       "1393                   {'facebook': 275, 'googlePlus': 5}\n",
       "1394                     {'facebook': 93, 'pinterest': 4}\n",
       "1395                                                   {}\n",
       "1396                    {'facebook': 223, 'pinterest': 6}\n",
       "1397    {'facebook': 502, 'googlePlus': 18, 'pinterest...\n",
       "1398                   {'facebook': 380, 'googlePlus': 4}\n",
       "1399                     {'facebook': 157, 'linkedIn': 6}\n",
       "1400                                    {'facebook': 371}\n",
       "1401                  {'facebook': 3645, 'googlePlus': 4}\n",
       "1402                                                   {}\n",
       "1403                      {'facebook': 7, 'pinterest': 3}\n",
       "1404    {'facebook': 14, 'googlePlus': 3, 'pinterest': 3}\n",
       "1405                      {'facebook': 3, 'pinterest': 3}\n",
       "1406    {'facebook': 1213, 'googlePlus': 5, 'pinterest...\n",
       "1407                  {'facebook': 480, 'googlePlus': 27}\n",
       "1408                    {'facebook': 38, 'googlePlus': 4}\n",
       "1409                    {'facebook': 302, 'pinterest': 6}\n",
       "1410    {'facebook': 133, 'pinterest': 3, 'linkedIn': 12}\n",
       "1411                     {'facebook': 33, 'pinterest': 3}\n",
       "1412                                     {'facebook': 30}\n",
       "1413    {'facebook': 967, 'googlePlus': 20, 'pinterest...\n",
       "1414                    {'facebook': 11, 'googlePlus': 8}\n",
       "1415    {'facebook': 32, 'googlePlus': 5, 'pinterest': 3}\n",
       "1416                    {'facebook': 26, 'googlePlus': 3}\n",
       "Name: shares, Length: 28849, dtype: object"
      ]
     },
     "execution_count": 101,
     "metadata": {},
     "output_type": "execute_result"
    }
   ],
   "source": [
    "df['shares']"
   ]
  },
  {
   "cell_type": "markdown",
   "metadata": {},
   "source": [
    "### Export Data"
   ]
  },
  {
   "cell_type": "code",
   "execution_count": 109,
   "metadata": {
    "collapsed": true
   },
   "outputs": [],
   "source": [
    "df.to_csv('/Users/Franzi/CloudStation/textmining/data/news_sep.txt')"
   ]
  },
  {
   "cell_type": "code",
   "execution_count": null,
   "metadata": {
    "collapsed": true
   },
   "outputs": [],
   "source": []
  }
 ],
 "metadata": {
  "kernelspec": {
   "display_name": "Python 3",
   "language": "python",
   "name": "python3"
  },
  "language_info": {
   "codemirror_mode": {
    "name": "ipython",
    "version": 3
   },
   "file_extension": ".py",
   "mimetype": "text/x-python",
   "name": "python",
   "nbconvert_exporter": "python",
   "pygments_lexer": "ipython3",
   "version": "3.6.1"
  }
 },
 "nbformat": 4,
 "nbformat_minor": 2
}
